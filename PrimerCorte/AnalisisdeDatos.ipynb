{
  "nbformat": 4,
  "nbformat_minor": 0,
  "metadata": {
    "colab": {
      "provenance": []
    },
    "kernelspec": {
      "name": "python3",
      "display_name": "Python 3"
    },
    "language_info": {
      "name": "python"
    }
  },
  "cells": [
    {
      "cell_type": "markdown",
      "source": [
        "#Mi primer análisis"
      ],
      "metadata": {
        "id": "XbJTaxcLOAUt"
      }
    },
    {
      "cell_type": "markdown",
      "source": [
        "###Seccion 0"
      ],
      "metadata": {
        "id": "F6j_rXSTU8DM"
      }
    },
    {
      "cell_type": "code",
      "source": [
        "2*15"
      ],
      "metadata": {
        "colab": {
          "base_uri": "https://localhost:8080/"
        },
        "id": "zAeTM89eOABV",
        "outputId": "08ece788-982a-43de-809c-3d22af4e0871"
      },
      "execution_count": 3,
      "outputs": [
        {
          "output_type": "execute_result",
          "data": {
            "text/plain": [
              "30"
            ]
          },
          "metadata": {},
          "execution_count": 3
        }
      ]
    },
    {
      "cell_type": "markdown",
      "source": [
        "##Seccion 1"
      ],
      "metadata": {
        "id": "wfiGItreU4mb"
      }
    },
    {
      "cell_type": "code",
      "source": [
        "print(\"Hola Mundo!\")"
      ],
      "metadata": {
        "colab": {
          "base_uri": "https://localhost:8080/"
        },
        "id": "6evUBB6XOEZc",
        "outputId": "bd3c8515-0097-403c-a04f-49aff0f1f769"
      },
      "execution_count": 14,
      "outputs": [
        {
          "output_type": "stream",
          "name": "stdout",
          "text": [
            "Hola Mundo!\n"
          ]
        }
      ]
    }
  ]
}